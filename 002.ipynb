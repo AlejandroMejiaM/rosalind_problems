{
 "cells": [
  {
   "cell_type": "code",
   "execution_count": null,
   "id": "0c66f69f-02fa-45e2-bbf2-cbb1393100a5",
   "metadata": {},
   "outputs": [],
   "source": [
    "dna_sequence = \"ATCGATCGATCGAGCTCGATCGA\"\n",
    "\n",
    "rna_base=''\n",
    "\n",
    "\n",
    "for nucleotide in dna_sequence:\n",
    "    if nucleotide == 'A':\n",
    "        rna_base='A'\n",
    "    elif nucleotide == 'C':\n",
    "        rna_base='C'\n",
    "    elif nucleotide == 'G':\n",
    "        rna_base='G'\n",
    "    elif nucleotide == 'T':\n",
    "        rna_base='U'\n",
    "    print(f'{rna_base}', end='')"
   ]
  },
  {
   "cell_type": "code",
   "execution_count": null,
   "id": "ab6c382b-413c-4153-af40-476c4a561f93",
   "metadata": {},
   "outputs": [],
   "source": [
    "dna_sequence = \"GCCCTACCACGATCAAGGCGATGGGGTGTGGGAGGTGGGTATGATACACCATCCCACCGGGCTAACCAACATCGTCGGTAATTTATTCCTTGTTCCGCGACTTATGGTCTGTGTCTGAATTAAATGTGGTTAATTGGAGAGGTTTTTGGGCACAGTAGCTTCCGGATTTTCTGCCTGCGGCCGAGGGCGTTCTTTATCAATTACACCGCACTCCCTTGTCGGTAGCTACCAACCCCAGTCCTGATACGTCTCAAGATCCGTTGTTGACGTTCACTCCTGATGTCCGTTATTATGTGCGAAAACGTATCTACAGCACCTCTGCTGATTTAGGTCTAATGTGGCAAGGAGGTAGGGCAGTACTCCTTTAGGAGTCCACTACGTGTGGCATGCTCGATCGGACACCATTCGGGATGTCCATTGCGGGTGCCGGCCTCAACTTCTGACATAGCAAGAATGTAAACGATGGGATAACAACCCGCACGTGAAAAAAAGTACGTCCCACAGTGCTTACCCCTCTCCCGAAGCCACCCGGACCTTTCGAAATTTCGGCCCTTGATGGTTCCTCACAGCTCAGGCGTGGCCTACTAAAGGTTGTTTTGGTAAAAGGCTTCTCCTGCTCTGTACTATATAGCGTCGTTATCAGTAGCCGCTATCTCAAGCTAAACGTACCAAGAACGTGGCTTACGACTGGAGGAAATTATAGGCGGATTCGAAATGAGGATTATATCGTGGTCTGTAATTCGAGGAGGACCGCGCCGGTGTCCGGGAGTCCTACGGGACGGGGGACCAATAAGTGGTCAAACGTCAGTCAGTTGATAGACTTCGCAAAAATAGTTGAAAGATCTCAGTGAAGAATTAGGGCAGAGACACGATTGCCATCTTAGTGCGCATGCGTCTAGTAAGGACCTAATGCGGCTTGAGGTTGTAGGAG\"\n",
    "\n",
    "rna_base=''\n",
    "\n",
    "\n",
    "for nucleotide in dna_sequence:\n",
    "    if nucleotide == 'A':\n",
    "        rna_base='A'\n",
    "    elif nucleotide == 'C':\n",
    "        rna_base='C'\n",
    "    elif nucleotide == 'G':\n",
    "        rna_base='G'\n",
    "    elif nucleotide == 'T':\n",
    "        rna_base='U'\n",
    "    print(f'{rna_base}', end='')"
   ]
  }
 ],
 "metadata": {
  "kernelspec": {
   "display_name": "Python 3 (ipykernel)",
   "language": "python",
   "name": "python3"
  },
  "language_info": {
   "codemirror_mode": {
    "name": "ipython",
    "version": 3
   },
   "file_extension": ".py",
   "mimetype": "text/x-python",
   "name": "python",
   "nbconvert_exporter": "python",
   "pygments_lexer": "ipython3",
   "version": "3.10.9"
  }
 },
 "nbformat": 4,
 "nbformat_minor": 5
}

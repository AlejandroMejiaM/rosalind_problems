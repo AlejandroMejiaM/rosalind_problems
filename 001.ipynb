{
 "cells": [
  {
   "cell_type": "code",
   "execution_count": null,
   "id": "e6dd550f-776c-440c-9f5b-aa72a02722d4",
   "metadata": {},
   "outputs": [],
   "source": [
    "dna_sequence = \"ATCGATCGATCGAGCTCGATCGA\"\n",
    "\n",
    "count_A = 0\n",
    "count_C = 0\n",
    "count_G = 0\n",
    "count_T = 0\n",
    "\n",
    "# Iterate through each character in the DNA sequence\n",
    "for nucleotide in dna_sequence:\n",
    "    if nucleotide == 'A':\n",
    "        count_A += 1\n",
    "    elif nucleotide == 'C':\n",
    "        count_C += 1\n",
    "    elif nucleotide == 'G':\n",
    "        count_G += 1\n",
    "    elif nucleotide == 'T':\n",
    "        count_T += 1\n",
    "        \n",
    "        \n",
    "# Print the results\n",
    "print(f\"{count_A}\", end=\" \")\n",
    "print(f\"{count_C}\", end=\" \")\n",
    "print(f\"{count_G}\", end=\" \")\n",
    "print(f\"{count_T}\")"
   ]
  }
 ],
 "metadata": {
  "kernelspec": {
   "display_name": "Python 3 (ipykernel)",
   "language": "python",
   "name": "python3"
  },
  "language_info": {
   "codemirror_mode": {
    "name": "ipython",
    "version": 3
   },
   "file_extension": ".py",
   "mimetype": "text/x-python",
   "name": "python",
   "nbconvert_exporter": "python",
   "pygments_lexer": "ipython3",
   "version": "3.10.9"
  }
 },
 "nbformat": 4,
 "nbformat_minor": 5
}

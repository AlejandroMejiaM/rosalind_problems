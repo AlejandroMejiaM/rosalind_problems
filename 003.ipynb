{
 "cells": [
  {
   "cell_type": "code",
   "execution_count": null,
   "id": "43f41317-b8a0-475a-b7d5-03b744a468aa",
   "metadata": {},
   "outputs": [],
   "source": [
    "dna_sequence = \"ATCGATCGATCGAGCTCGATCGA\"\n",
    "\n",
    "complementing=''\n",
    "\n",
    "\n",
    "for nucleotide in range(len(dna_sequence) -1,-1,-1):\n",
    "    if nucleotide == 'A':\n",
    "        complementing='T'\n",
    "    elif nucleotide == 'C':\n",
    "        complementing='G'\n",
    "    elif nucleotide == 'G':\n",
    "        complementing='C'\n",
    "    elif nucleotide == 'T':\n",
    "        complementing='A'\n",
    "    print(f'{complementing}', end='')"
   ]
  },
  {
   "cell_type": "code",
   "execution_count": null,
   "id": "23c30930-5abb-4b97-a551-f634c151ad9c",
   "metadata": {},
   "outputs": [],
   "source": [
    "dna_sequence = \"ATCGATCGATCGAGCTCGATCGA\"\n",
    "\n",
    "complementing=''\n",
    "\n",
    "# Begins at the end with lenght -1 since first letter is position 0\n",
    "# Ends at 0\n",
    "# Position of string count decreases by 1\n",
    "for nucleotide in range(len(dna_sequence) -1,-1,-1): # Loop for starting at the end of the string\n",
    "    \n",
    "    # Nucleotide is counter\n",
    "    if dna_sequence[nucleotide] == 'A':\n",
    "        complementing='T'\n",
    "    elif dna_sequence[nucleotide] == 'C':\n",
    "        complementing='G'\n",
    "    elif dna_sequence[nucleotide] == 'G':\n",
    "        complementing='C'\n",
    "    elif dna_sequence[nucleotide] == 'T':\n",
    "        complementing='A'\n",
    "    print(f'{complementing}', end='')"
   ]
  }
 ],
 "metadata": {
  "kernelspec": {
   "display_name": "Python 3 (ipykernel)",
   "language": "python",
   "name": "python3"
  },
  "language_info": {
   "codemirror_mode": {
    "name": "ipython",
    "version": 3
   },
   "file_extension": ".py",
   "mimetype": "text/x-python",
   "name": "python",
   "nbconvert_exporter": "python",
   "pygments_lexer": "ipython3",
   "version": "3.10.9"
  }
 },
 "nbformat": 4,
 "nbformat_minor": 5
}
